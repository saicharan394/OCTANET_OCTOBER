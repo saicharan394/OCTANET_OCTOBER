{
  "nbformat": 4,
  "nbformat_minor": 0,
  "metadata": {
    "colab": {
      "provenance": [],
      "include_colab_link": true
    },
    "kernelspec": {
      "name": "python3",
      "display_name": "Python 3"
    },
    "language_info": {
      "name": "python"
    }
  },
  "cells": [
    {
      "cell_type": "markdown",
      "metadata": {
        "id": "view-in-github",
        "colab_type": "text"
      },
      "source": [
        "<a href=\"https://colab.research.google.com/github/saicharan394/OCTANET_OCTOBER/blob/main/svm_linear.ipynb\" target=\"_parent\"><img src=\"https://colab.research.google.com/assets/colab-badge.svg\" alt=\"Open In Colab\"/></a>"
      ]
    },
    {
      "cell_type": "code",
      "execution_count": null,
      "metadata": {
        "id": "s51faoGrKszC"
      },
      "outputs": [],
      "source": [
        "from sklearn.svm import LinearSVC\n",
        "from sklearn import datasets\n",
        "from sklearn.preprocessing import StandardScaler\n",
        "import numpy as np"
      ]
    },
    {
      "cell_type": "code",
      "source": [
        "iris = datasets.load_iris()\n",
        "features = iris.data[:100,:2]\n",
        "target = iris.target[:100]\n",
        "features"
      ],
      "metadata": {
        "colab": {
          "base_uri": "https://localhost:8080/"
        },
        "id": "SUYIwN_iK5gG",
        "outputId": "dfb2b042-df3b-468c-c8f4-26ebe7a09213"
      },
      "execution_count": null,
      "outputs": [
        {
          "output_type": "execute_result",
          "data": {
            "text/plain": [
              "array([[5.1, 3.5],\n",
              "       [4.9, 3. ],\n",
              "       [4.7, 3.2],\n",
              "       [4.6, 3.1],\n",
              "       [5. , 3.6],\n",
              "       [5.4, 3.9],\n",
              "       [4.6, 3.4],\n",
              "       [5. , 3.4],\n",
              "       [4.4, 2.9],\n",
              "       [4.9, 3.1],\n",
              "       [5.4, 3.7],\n",
              "       [4.8, 3.4],\n",
              "       [4.8, 3. ],\n",
              "       [4.3, 3. ],\n",
              "       [5.8, 4. ],\n",
              "       [5.7, 4.4],\n",
              "       [5.4, 3.9],\n",
              "       [5.1, 3.5],\n",
              "       [5.7, 3.8],\n",
              "       [5.1, 3.8],\n",
              "       [5.4, 3.4],\n",
              "       [5.1, 3.7],\n",
              "       [4.6, 3.6],\n",
              "       [5.1, 3.3],\n",
              "       [4.8, 3.4],\n",
              "       [5. , 3. ],\n",
              "       [5. , 3.4],\n",
              "       [5.2, 3.5],\n",
              "       [5.2, 3.4],\n",
              "       [4.7, 3.2],\n",
              "       [4.8, 3.1],\n",
              "       [5.4, 3.4],\n",
              "       [5.2, 4.1],\n",
              "       [5.5, 4.2],\n",
              "       [4.9, 3.1],\n",
              "       [5. , 3.2],\n",
              "       [5.5, 3.5],\n",
              "       [4.9, 3.6],\n",
              "       [4.4, 3. ],\n",
              "       [5.1, 3.4],\n",
              "       [5. , 3.5],\n",
              "       [4.5, 2.3],\n",
              "       [4.4, 3.2],\n",
              "       [5. , 3.5],\n",
              "       [5.1, 3.8],\n",
              "       [4.8, 3. ],\n",
              "       [5.1, 3.8],\n",
              "       [4.6, 3.2],\n",
              "       [5.3, 3.7],\n",
              "       [5. , 3.3],\n",
              "       [7. , 3.2],\n",
              "       [6.4, 3.2],\n",
              "       [6.9, 3.1],\n",
              "       [5.5, 2.3],\n",
              "       [6.5, 2.8],\n",
              "       [5.7, 2.8],\n",
              "       [6.3, 3.3],\n",
              "       [4.9, 2.4],\n",
              "       [6.6, 2.9],\n",
              "       [5.2, 2.7],\n",
              "       [5. , 2. ],\n",
              "       [5.9, 3. ],\n",
              "       [6. , 2.2],\n",
              "       [6.1, 2.9],\n",
              "       [5.6, 2.9],\n",
              "       [6.7, 3.1],\n",
              "       [5.6, 3. ],\n",
              "       [5.8, 2.7],\n",
              "       [6.2, 2.2],\n",
              "       [5.6, 2.5],\n",
              "       [5.9, 3.2],\n",
              "       [6.1, 2.8],\n",
              "       [6.3, 2.5],\n",
              "       [6.1, 2.8],\n",
              "       [6.4, 2.9],\n",
              "       [6.6, 3. ],\n",
              "       [6.8, 2.8],\n",
              "       [6.7, 3. ],\n",
              "       [6. , 2.9],\n",
              "       [5.7, 2.6],\n",
              "       [5.5, 2.4],\n",
              "       [5.5, 2.4],\n",
              "       [5.8, 2.7],\n",
              "       [6. , 2.7],\n",
              "       [5.4, 3. ],\n",
              "       [6. , 3.4],\n",
              "       [6.7, 3.1],\n",
              "       [6.3, 2.3],\n",
              "       [5.6, 3. ],\n",
              "       [5.5, 2.5],\n",
              "       [5.5, 2.6],\n",
              "       [6.1, 3. ],\n",
              "       [5.8, 2.6],\n",
              "       [5. , 2.3],\n",
              "       [5.6, 2.7],\n",
              "       [5.7, 3. ],\n",
              "       [5.7, 2.9],\n",
              "       [6.2, 2.9],\n",
              "       [5.1, 2.5],\n",
              "       [5.7, 2.8]])"
            ]
          },
          "metadata": {},
          "execution_count": 2
        }
      ]
    },
    {
      "cell_type": "code",
      "source": [
        "scaler = StandardScaler()\n",
        "features_standardized = scaler.fit_transform(features)\n",
        "features_standardized"
      ],
      "metadata": {
        "colab": {
          "base_uri": "https://localhost:8080/"
        },
        "id": "-AlklwsuK-rm",
        "outputId": "35bd8ad0-61e9-4983-d87d-2d1ac0f91b0a"
      },
      "execution_count": null,
      "outputs": [
        {
          "output_type": "execute_result",
          "data": {
            "text/plain": [
              "array([[-5.81065904e-01,  8.41837140e-01],\n",
              "       [-8.94308978e-01, -2.07835104e-01],\n",
              "       [-1.20755205e+00,  2.12033793e-01],\n",
              "       [-1.36417359e+00,  2.09934449e-03],\n",
              "       [-7.37687441e-01,  1.05177159e+00],\n",
              "       [-1.11201292e-01,  1.68157493e+00],\n",
              "       [-1.36417359e+00,  6.31902691e-01],\n",
              "       [-7.37687441e-01,  6.31902691e-01],\n",
              "       [-1.67741667e+00, -4.17769553e-01],\n",
              "       [-8.94308978e-01,  2.09934449e-03],\n",
              "       [-1.11201292e-01,  1.26170604e+00],\n",
              "       [-1.05093052e+00,  6.31902691e-01],\n",
              "       [-1.05093052e+00, -2.07835104e-01],\n",
              "       [-1.83403820e+00, -2.07835104e-01],\n",
              "       [ 5.15284858e-01,  1.89150938e+00],\n",
              "       [ 3.58663321e-01,  2.73124718e+00],\n",
              "       [-1.11201292e-01,  1.68157493e+00],\n",
              "       [-5.81065904e-01,  8.41837140e-01],\n",
              "       [ 3.58663321e-01,  1.47164049e+00],\n",
              "       [-5.81065904e-01,  1.47164049e+00],\n",
              "       [-1.11201292e-01,  6.31902691e-01],\n",
              "       [-5.81065904e-01,  1.26170604e+00],\n",
              "       [-1.36417359e+00,  1.05177159e+00],\n",
              "       [-5.81065904e-01,  4.21968242e-01],\n",
              "       [-1.05093052e+00,  6.31902691e-01],\n",
              "       [-7.37687441e-01, -2.07835104e-01],\n",
              "       [-7.37687441e-01,  6.31902691e-01],\n",
              "       [-4.24444366e-01,  8.41837140e-01],\n",
              "       [-4.24444366e-01,  6.31902691e-01],\n",
              "       [-1.20755205e+00,  2.12033793e-01],\n",
              "       [-1.05093052e+00,  2.09934449e-03],\n",
              "       [-1.11201292e-01,  6.31902691e-01],\n",
              "       [-4.24444366e-01,  2.10144383e+00],\n",
              "       [ 4.54202458e-02,  2.31137828e+00],\n",
              "       [-8.94308978e-01,  2.09934449e-03],\n",
              "       [-7.37687441e-01,  2.12033793e-01],\n",
              "       [ 4.54202458e-02,  8.41837140e-01],\n",
              "       [-8.94308978e-01,  1.05177159e+00],\n",
              "       [-1.67741667e+00, -2.07835104e-01],\n",
              "       [-5.81065904e-01,  6.31902691e-01],\n",
              "       [-7.37687441e-01,  8.41837140e-01],\n",
              "       [-1.52079513e+00, -1.67737625e+00],\n",
              "       [-1.67741667e+00,  2.12033793e-01],\n",
              "       [-7.37687441e-01,  8.41837140e-01],\n",
              "       [-5.81065904e-01,  1.47164049e+00],\n",
              "       [-1.05093052e+00, -2.07835104e-01],\n",
              "       [-5.81065904e-01,  1.47164049e+00],\n",
              "       [-1.36417359e+00,  2.12033793e-01],\n",
              "       [-2.67822829e-01,  1.26170604e+00],\n",
              "       [-7.37687441e-01,  4.21968242e-01],\n",
              "       [ 2.39474331e+00,  2.12033793e-01],\n",
              "       [ 1.45501408e+00,  2.12033793e-01],\n",
              "       [ 2.23812177e+00,  2.09934449e-03],\n",
              "       [ 4.54202458e-02, -1.67737625e+00],\n",
              "       [ 1.61163562e+00, -6.27704002e-01],\n",
              "       [ 3.58663321e-01, -6.27704002e-01],\n",
              "       [ 1.29839254e+00,  4.21968242e-01],\n",
              "       [-8.94308978e-01, -1.46744180e+00],\n",
              "       [ 1.76825716e+00, -4.17769553e-01],\n",
              "       [-4.24444366e-01, -8.37638451e-01],\n",
              "       [-7.37687441e-01, -2.30717959e+00],\n",
              "       [ 6.71906395e-01, -2.07835104e-01],\n",
              "       [ 8.28527933e-01, -1.88731069e+00],\n",
              "       [ 9.85149470e-01, -4.17769553e-01],\n",
              "       [ 2.02041783e-01, -4.17769553e-01],\n",
              "       [ 1.92487869e+00,  2.09934449e-03],\n",
              "       [ 2.02041783e-01, -2.07835104e-01],\n",
              "       [ 5.15284858e-01, -8.37638451e-01],\n",
              "       [ 1.14177101e+00, -1.88731069e+00],\n",
              "       [ 2.02041783e-01, -1.25750735e+00],\n",
              "       [ 6.71906395e-01,  2.12033793e-01],\n",
              "       [ 9.85149470e-01, -6.27704002e-01],\n",
              "       [ 1.29839254e+00, -1.25750735e+00],\n",
              "       [ 9.85149470e-01, -6.27704002e-01],\n",
              "       [ 1.45501408e+00, -4.17769553e-01],\n",
              "       [ 1.76825716e+00, -2.07835104e-01],\n",
              "       [ 2.08150023e+00, -6.27704002e-01],\n",
              "       [ 1.92487869e+00, -2.07835104e-01],\n",
              "       [ 8.28527933e-01, -4.17769553e-01],\n",
              "       [ 3.58663321e-01, -1.04757290e+00],\n",
              "       [ 4.54202458e-02, -1.46744180e+00],\n",
              "       [ 4.54202458e-02, -1.46744180e+00],\n",
              "       [ 5.15284858e-01, -8.37638451e-01],\n",
              "       [ 8.28527933e-01, -8.37638451e-01],\n",
              "       [-1.11201292e-01, -2.07835104e-01],\n",
              "       [ 8.28527933e-01,  6.31902691e-01],\n",
              "       [ 1.92487869e+00,  2.09934449e-03],\n",
              "       [ 1.29839254e+00, -1.67737625e+00],\n",
              "       [ 2.02041783e-01, -2.07835104e-01],\n",
              "       [ 4.54202458e-02, -1.25750735e+00],\n",
              "       [ 4.54202458e-02, -1.04757290e+00],\n",
              "       [ 9.85149470e-01, -2.07835104e-01],\n",
              "       [ 5.15284858e-01, -1.04757290e+00],\n",
              "       [-7.37687441e-01, -1.67737625e+00],\n",
              "       [ 2.02041783e-01, -8.37638451e-01],\n",
              "       [ 3.58663321e-01, -2.07835104e-01],\n",
              "       [ 3.58663321e-01, -4.17769553e-01],\n",
              "       [ 1.14177101e+00, -4.17769553e-01],\n",
              "       [-5.81065904e-01, -1.25750735e+00],\n",
              "       [ 3.58663321e-01, -6.27704002e-01]])"
            ]
          },
          "metadata": {},
          "execution_count": 6
        }
      ]
    },
    {
      "cell_type": "code",
      "source": [
        "# Create support vector classifier\n",
        "svc = LinearSVC(C=1.0)"
      ],
      "metadata": {
        "id": "ldatTgFQLjBe"
      },
      "execution_count": null,
      "outputs": []
    },
    {
      "cell_type": "code",
      "source": [
        "# Train model\n",
        "model = svc.fit(features_standardized, target)"
      ],
      "metadata": {
        "id": "GP7MyEJQL7k3"
      },
      "execution_count": null,
      "outputs": []
    },
    {
      "cell_type": "code",
      "source": [
        "from matplotlib import pyplot as plt\n",
        "color = [\"black\" if c == 0 else \"red\" for c in target]\n",
        "#print(color)\n",
        "plt.scatter(features_standardized[:,0],features_standardized[:,1], c=color)\n",
        "w = svc.coef_[0]\n",
        "print(w)\n",
        "print(svc.intercept_[0])\n",
        "a = -w[0] / w[1]\n",
        "xx = np.linspace(-2.5, 2.5)\n",
        "print(xx)\n",
        "yy = a * xx - (svc.intercept_[0]) / w[1]\n",
        "print(yy)\n",
        "plt.plot(xx, yy)\n",
        "plt.axis(\"off\"), plt.show();"
      ],
      "metadata": {
        "colab": {
          "base_uri": "https://localhost:8080/",
          "height": 823
        },
        "id": "03gf0dRzMeU4",
        "outputId": "96cd5eba-a021-4c3b-b6af-a9cd5e01c46e"
      },
      "execution_count": null,
      "outputs": [
        {
          "output_type": "stream",
          "name": "stdout",
          "text": [
            "[ 1.68970993 -1.24087171]\n",
            "0.25979920274884477\n",
            "[-2.5        -2.39795918 -2.29591837 -2.19387755 -2.09183673 -1.98979592\n",
            " -1.8877551  -1.78571429 -1.68367347 -1.58163265 -1.47959184 -1.37755102\n",
            " -1.2755102  -1.17346939 -1.07142857 -0.96938776 -0.86734694 -0.76530612\n",
            " -0.66326531 -0.56122449 -0.45918367 -0.35714286 -0.25510204 -0.15306122\n",
            " -0.05102041  0.05102041  0.15306122  0.25510204  0.35714286  0.45918367\n",
            "  0.56122449  0.66326531  0.76530612  0.86734694  0.96938776  1.07142857\n",
            "  1.17346939  1.2755102   1.37755102  1.47959184  1.58163265  1.68367347\n",
            "  1.78571429  1.8877551   1.98979592  2.09183673  2.19387755  2.29591837\n",
            "  2.39795918  2.5       ]\n",
            "[-3.19491176e+00 -3.05596155e+00 -2.91701134e+00 -2.77806114e+00\n",
            " -2.63911093e+00 -2.50016072e+00 -2.36121052e+00 -2.22226031e+00\n",
            " -2.08331010e+00 -1.94435990e+00 -1.80540969e+00 -1.66645949e+00\n",
            " -1.52750928e+00 -1.38855907e+00 -1.24960887e+00 -1.11065866e+00\n",
            " -9.71708453e-01 -8.32758246e-01 -6.93808040e-01 -5.54857834e-01\n",
            " -4.15907627e-01 -2.76957421e-01 -1.38007214e-01  9.42992394e-04\n",
            "  1.39893199e-01  2.78843405e-01  4.17793612e-01  5.56743818e-01\n",
            "  6.95694025e-01  8.34644231e-01  9.73594438e-01  1.11254464e+00\n",
            "  1.25149485e+00  1.39044506e+00  1.52939526e+00  1.66834547e+00\n",
            "  1.80729568e+00  1.94624588e+00  2.08519609e+00  2.22414630e+00\n",
            "  2.36309650e+00  2.50204671e+00  2.64099692e+00  2.77994712e+00\n",
            "  2.91889733e+00  3.05784753e+00  3.19679774e+00  3.33574795e+00\n",
            "  3.47469815e+00  3.61364836e+00]\n"
          ]
        },
        {
          "output_type": "display_data",
          "data": {
            "text/plain": [
              "<Figure size 640x480 with 1 Axes>"
            ],
            "image/png": "[encoded data removed]"
          },
          "metadata": {}
        }
      ]
    },
    {
      "cell_type": "code",
      "source": [
        "new_observation = [[ -2, 3]]"
      ],
      "metadata": {
        "id": "behO2ykHMf4H"
      },
      "execution_count": null,
      "outputs": []
    },
    {
      "cell_type": "code",
      "source": [
        "svc.predict(new_observation)"
      ],
      "metadata": {
        "colab": {
          "base_uri": "https://localhost:8080/"
        },
        "id": "ZxrjR5aYNq6n",
        "outputId": "3e289098-b024-439f-ebc4-7583536f033c"
      },
      "execution_count": null,
      "outputs": [
        {
          "output_type": "execute_result",
          "data": {
            "text/plain": [
              "array([0])"
            ]
          },
          "metadata": {},
          "execution_count": 13
        }
      ]
    }
  ]
}